{
 "cells": [
  {
   "cell_type": "markdown",
   "metadata": {},
   "source": [
    "## Solving puzzles with Python\n",
    "\n",
    "See [2009 U.S. Puzzle Championship](http://wpc.puzzles.com/history/tests/ca9/uspc-09.pdf) for reference. PDF password is `barMd345`"
   ]
  },
  {
   "cell_type": "markdown",
   "metadata": {},
   "source": [
    "#### 1. Battleships\n",
    "\n",
    "Probably relevant paper: [Constraint Programming Models for Solitaire Battleships](https://pdfs.semanticscholar.org/f8a1/b0fd9d5b875549558973b2f972c72fd4dc83.pdf)"
   ]
  },
  {
   "cell_type": "code",
   "execution_count": 2,
   "metadata": {
    "collapsed": true
   },
   "outputs": [],
   "source": [
    "# ship pseudo-graphic:\n",
    "# h - ltr head\n",
    "# t - ltr tail\n",
    "# H - up-down head\n",
    "# T - up-down tail\n",
    "# b - ltr body segment\n",
    "# B - up-down body segment\n",
    "# s - 1-unit submarine\n",
    "# W - water (empty cell)'"
   ]
  },
  {
   "cell_type": "code",
   "execution_count": 93,
   "metadata": {},
   "outputs": [],
   "source": [
    "from string import ascii_uppercase\n",
    "from operator import eq\n",
    "from collections import deque\n",
    "from itertools import chain\n",
    "from constraint import Problem, AllDifferentConstraint\n",
    "\n",
    "grid_size = 10 + 2\n",
    "possible_values = range((grid_size) ^ 2)\n",
    "visibility = {'T': 1, 'H': 1, 'B': 1, 'S': 1, 'W': 0}\n",
    "row_visible_parts = [0] + [4, 0, 2, 1, 1, 2, 0, 5, 0, 5] + [0]\n",
    "col_visible_parts = [0] + [2, 2, 1, 1, 1, 2, 2, 1, 6, 2] + [0]\n",
    "known_parts = {(0, 0): 's', '20': 'W', '92': 'B', '97': 'H'}\n",
    "fleet_size = 10\n",
    "\n",
    "b2 = list(combinations_with_replacement(['hbbt', 'HBBT'], 1))\n",
    "b1 = list(combinations_with_replacement(['hbt', 'HBT'], 2))\n",
    "b0 = list(combinations_with_replacement(['ht', 'HT'], 3))\n",
    "subs = ['s', 's', 's', 's']\n",
    "\n",
    "fleet_permutations = [chain(x, y, z, subs) for x in b2 for y in b1 for z in b0]\n",
    "\n",
    "edging_map = {None: {'rotate': 0, 'wcount': 0},\n",
    "              'ul': {'rotate': 0, 'wcount': 0},\n",
    "              'u':  {'rotate': 0, 'wcount': 0},\n",
    "              'ur': {'rotate': 0, 'wcount': 0},\n",
    "              'r':  {'rotate': 0, 'wcount': 0},\n",
    "              'br': {'rotate': 0, 'wcount': 0},\n",
    "              'b':  {'rotate': 0, 'wcount': 0},\n",
    "              'bl': {'rotate': 0, 'wcount': 0},\n",
    "              'l':  {'rotate': 0, 'wcount': 0}}\n",
    "\n",
    "def space_constraint(*box, ship='hbbt', edge=None):\n",
    "    '''\n",
    "    W W W W W W\n",
    "    W h b b t W\n",
    "    W W W W W W\n",
    "    '''\n",
    "    d = deque(box)\n",
    "    d.reverse()\n",
    "    d.rotate(len(ship) + 3)\n",
    "    return ''.join([d.pop() for _ in range(len(ship))]) == ship and \\\n",
    "           d.count('w') == len(box) - len(ship)\n",
    "\n",
    "for fleet in fleet_permutations:\n",
    "    p = Problem()\n",
    "    p.addVariables(range(fleet_size), possible_values)\n",
    "    p.addConstraint(AllDifferentConstraint(), range(fleet_size))\n",
    "#     print(p.getSolution())\n",
    "# TODO: implement more constraints from  the paper"
   ]
  },
  {
   "cell_type": "markdown",
   "metadata": {},
   "source": [
    "#### 2. Sudoku"
   ]
  },
  {
   "cell_type": "code",
   "execution_count": 11,
   "metadata": {},
   "outputs": [
    {
     "name": "stdout",
     "output_type": "stream",
     "text": [
      "[3, 4, 1, 6, 2, 8, 5, 9, 7]\n",
      "[4, 7, 1, 9, 8, 2, 5, 3, 6]\n"
     ]
    }
   ],
   "source": [
    "# credit: https://simplapi.wordpress.com/2012/11/02/python-constraint-and-sudoku/\n",
    "\n",
    "from constraint import Problem, InSetConstraint, AllDifferentConstraint\n",
    "import math\n",
    " \n",
    "def solveSudoku(size = 9, originalGame = None):\n",
    "    \"\"\" Solving Sudoku of any size \"\"\"\n",
    "    sudoku = Problem()\n",
    " \n",
    "    #Defining size of row/col\n",
    "    rows = range(size)\n",
    "    cols = range(size)\n",
    " \n",
    "    #Creating board\n",
    "    board = [(row, col) for row in rows for col in cols]\n",
    "    #Defining game variable, a single range will be enough\n",
    "    sudoku.addVariables(board, range(1, size + 1))\n",
    " \n",
    "    #Row set\n",
    "    rowSet = [list(zip([el] * len(cols), cols)) for el in rows]\n",
    "    colSet = [list(zip(rows, [el] * len(rows))) for el in cols]\n",
    "  \n",
    "    #The original board is not empty, we add that constraint to the list of constraint\n",
    "    if originalGame is not None:\n",
    "        for i in range(0, size):\n",
    "            for j in range(0, size):\n",
    "                #Getting the value of the current game\n",
    "                o = originalGame[i][j]\n",
    "                #We apply constraint when the number is set only\n",
    "                if o > 0:\n",
    "                    #We get the associated tuple\n",
    "                    t = (rows[i],cols[j])\n",
    "                    #We set a basic equal constraint rule to force the system to keep that variable at that place\n",
    "                    sudoku.addConstraint(lambda var, val=o: var == val, (t,))\n",
    " \n",
    "    #The constraint are like that : and each row, and each columns, got same final compute value\n",
    " \n",
    "    for row in rowSet:\n",
    "        sudoku.addConstraint(AllDifferentConstraint(), row)\n",
    "    for col in colSet:\n",
    "        sudoku.addConstraint(AllDifferentConstraint(), col)\n",
    " \n",
    "    #Every sqrt(size) (3x3 box constraint) got same sum\n",
    "    sqSize = int(math.floor(math.sqrt(size)))\n",
    " \n",
    "    #xrange allow to define a step, here sq (wich is sq = 3 in 9x9 sudoku)\n",
    "    for i in range(0,size,sqSize):\n",
    "        for j in range(0,size,sqSize):\n",
    "            #Computing the list of tuple linked to that box\n",
    "            box = []\n",
    "            for k in range(0, sqSize):\n",
    "                for l in range(0, sqSize):\n",
    "                    #The tuple i+k, j+l is inside that box\n",
    "                    box.append( (i+k, j+l) )\n",
    "            #Compute is done, now we can add the constraint for that box\n",
    "            sudoku.addConstraint(AllDifferentConstraint(), box)\n",
    " \n",
    "    #Computing and returning final result\n",
    "    return sudoku.getSolution()\n",
    " \n",
    " \n",
    "\n",
    "rg = 9\n",
    "initValue = [[0, 1, 0, 5, 0, 0, 0, 8, 0],\n",
    "             [0, 2, 3, 4, 0, 0, 7, 0, 0],\n",
    "             [0, 0, 0, 0, 0, 6, 0, 0, 0],\n",
    "             [0, 0, 8, 1, 0, 0, 0, 0, 5],\n",
    "             [0, 7, 0, 0, 0, 0, 0, 4, 0],\n",
    "             [6, 0, 0, 0, 0, 3, 2, 0, 0],\n",
    "             [0, 0, 0, 6, 0, 0, 0, 0, 0],\n",
    "             [0, 0, 7, 0, 0, 4, 3, 2, 0],\n",
    "             [0, 8, 0, 0, 0, 5, 0, 1, 0]]\n",
    "\n",
    "res = solveSudoku(rg, initValue)\n",
    "if res is not None:\n",
    "#     for i in range(0, rg):\n",
    "#         for j in range(0, rg):\n",
    "#             print(res[i, j], end='')\n",
    "#         print()\n",
    "#     print()\n",
    "    \n",
    "    print([res[6, i] for i in range(rg)])\n",
    "    print([res[i, 6] for i in range(rg)])\n",
    "else:\n",
    "    print(\"No result to show\")"
   ]
  },
  {
   "cell_type": "markdown",
   "metadata": {},
   "source": [
    "#### 3. Missing Operation KenKen"
   ]
  },
  {
   "cell_type": "code",
   "execution_count": 12,
   "metadata": {},
   "outputs": [
    {
     "name": "stdout",
     "output_type": "stream",
     "text": [
      "[3, 1, 2, 4, 6, 5]\n",
      "[3, 1, 4, 5, 6, 2]\n"
     ]
    }
   ],
   "source": [
    "from constraint import Problem, AllDifferentConstraint\n",
    "from functools import partial, reduce\n",
    "from operator import mul\n",
    "\n",
    "size = 6\n",
    "\n",
    "kenken = Problem()\n",
    "\n",
    "#Defining size of row/col\n",
    "rows = range(size)\n",
    "cols = range(size)\n",
    "\n",
    "#Creating board\n",
    "board = [(row, col) for row in rows for col in cols]\n",
    "#Defining game variable, a single range will be enough\n",
    "kenken.addVariables(board, range(1, size + 1))\n",
    "\n",
    "#Row set\n",
    "rowSet = [list(zip([el] * len(cols), cols)) for el in rows]\n",
    "colSet = [list(zip(rows, [el] * len(rows))) for el in cols]\n",
    "\n",
    "for row in rowSet:\n",
    "    kenken.addConstraint(AllDifferentConstraint(), row)\n",
    "for col in colSet:\n",
    "    kenken.addConstraint(AllDifferentConstraint(), col)\n",
    "\n",
    "regions = [  (4,  [(0, 0), (0, 1)]),\n",
    "             (40, [(0, 2), (0, 3), (1, 3)]),\n",
    "             (3,  [(0, 4), (0, 5)]),\n",
    "             (12, [(1, 0), (1, 1), (1, 2)]),\n",
    "             (3,  [(1, 4), (1, 5), (2, 5)]),\n",
    "             (15, [(2, 0), (3, 0), (3, 1)]),\n",
    "             (2,  [(2, 1)]),\n",
    "             (3,  [(2, 2), (3, 2)]),\n",
    "             (10, [(2, 3), (2, 4)]),\n",
    "             (21, [(3, 3), (3, 4), (3, 5), (4, 4), (4, 5)]),\n",
    "             (6,  [(4, 0), (4, 1), (4, 2)]),\n",
    "             (20, [(4, 3), (5, 3), (5, 2)]),\n",
    "             (2,  [(5, 0), (5, 1)]),\n",
    "             (2,  [(5, 4), (5, 5)])]\n",
    "    \n",
    "\n",
    "def func(*cells, value=None):\n",
    "    if len(cells) == 1:\n",
    "        return cells[0] == value\n",
    "    elif len(cells) == 2:\n",
    "        return any([sum(cells) == value,\n",
    "                    cells[0] - cells[1] == value,\n",
    "                    cells[1] - cells[0] == value,\n",
    "                    mul(*cells) == value,\n",
    "                    cells[0] / cells[1] == value,\n",
    "                    cells[1] / cells[0] == value])\n",
    "    else:\n",
    "        return any([sum(cells) == value,\n",
    "                    reduce(mul, cells) == value])\n",
    "\n",
    "for val, region in regions:\n",
    "    kenken.addConstraint(partial(func, value=val), region)\n",
    "    \n",
    "\n",
    "res = kenken.getSolution()\n",
    "if res is not None:\n",
    "#     for i in range(0, size):\n",
    "#         for j in range(0, size):\n",
    "#             print(res[i, j], end='')\n",
    "#         print()\n",
    "#     print()\n",
    "    print([res[4, i] for i in range(size)])\n",
    "    print([res[i, 4] for i in range(size)])\n",
    "else:\n",
    "    print(\"No solution\")"
   ]
  },
  {
   "cell_type": "markdown",
   "metadata": {},
   "source": [
    "#### 4. Sum Thing"
   ]
  },
  {
   "cell_type": "code",
   "execution_count": 16,
   "metadata": {},
   "outputs": [
    {
     "name": "stdout",
     "output_type": "stream",
     "text": [
      "0, 6, 5, 2, 8, 4, 1, 7, 9, 3\n"
     ]
    }
   ],
   "source": [
    "from constraint import Problem, AllDifferentConstraint, ExactSumConstraint\n",
    "\n",
    "size = 10\n",
    "line_sum = 13\n",
    "board = range(size)\n",
    "lines = [[0, 1, 7], [0, 5, 8], [0, 2, 4], [1, 2, 3], [1, 5, 9],\n",
    "         [2, 6, 7], [3, 5, 7], [3, 4, 9], [4, 5, 6], [6, 8, 9]]\n",
    "\n",
    "p = Problem()\n",
    "p.addVariables(board, range(size))\n",
    "p.addConstraint(AllDifferentConstraint(), board)\n",
    "for line in lines:\n",
    "    p.addConstraint(ExactSumConstraint(line_sum), line)\n",
    "\n",
    "res = p.getSolution()\n",
    "if res is not None:\n",
    "    print(', '.join([str(res[i]) for i in board]))\n",
    "else:\n",
    "    print(\"No solution\")"
   ]
  },
  {
   "cell_type": "markdown",
   "metadata": {},
   "source": [
    "#### 7. Writer's Block"
   ]
  },
  {
   "cell_type": "code",
   "execution_count": 1,
   "metadata": {},
   "outputs": [
    {
     "data": {
      "text/plain": [
       "{'ALBOM', 'ASIMOV', 'JKROWLING', 'MACLEISH'}"
      ]
     },
     "execution_count": 1,
     "metadata": {},
     "output_type": "execute_result"
    }
   ],
   "source": [
    "from constraint import Problem, AllDifferentConstraint\n",
    "from functools import partial\n",
    "\n",
    "names = [\n",
    "    'ALBEE', 'ALBOM', 'ALGER', 'BLAKE', 'FROST', 'GRIMM', 'MAMET', 'PLATH', 'TYLER', 'WELTY',\n",
    "    'ASIMOV', 'BRONTE', 'CAPOTE', 'CHABON', 'HORACE', 'JEWETT', 'KILMER', 'MAILER', 'MILLER',\n",
    "    'MILTON', 'ONEILL', 'FAULKNER', 'MACLEISH', 'MCCARTHY', 'MELVILLE', 'MICHENER', 'HARPERLEE',\n",
    "    'HEMINGWAY', 'JAMESAGEE', 'JKROWLING', 'NEILSIMON'\n",
    "]\n",
    "\n",
    "places_count = 27\n",
    "places = range(places_count)\n",
    "\n",
    "crisscross = Problem()\n",
    "crisscross.addVariables(places, names)\n",
    "\n",
    "crisscross.addConstraint(AllDifferentConstraint(), places)\n",
    "\n",
    "place_sizes = {0:5, 1:5, 2:9, 3:6, 4:6, 5:8, 6:5, 7:8, 8:6, 9:6,\n",
    "               10:8, 11:9, 12:9, 13:5, 14:6, 15:6, 16:5, 17:6, 18:6,\n",
    "               19:6, 20:5, 21:8, 22:5, 23:5, 24:5, 25:6, 26:9}\n",
    "\n",
    "for place, size in place_sizes.items():\n",
    "    crisscross.addConstraint(lambda x, s=size: len(x) == s, (place, ))\n",
    "\n",
    "# place1, index1, place2, index2\n",
    "intersections = [\n",
    "    (0, 0, 17, 0), (4, 0, 17, 2), (12, 3, 17, 5), (23, 1, 4, 5), (23, 4, 12, 8), (21, 1, 12, 5),\n",
    "    (12, 0, 15, 0), (16, 4, 25, 0),  (19, 2, 24, 1), (21, 6, 24, 3), (19, 4, 26, 7),\n",
    "    (26, 1, 11, 7), (11, 0, 10, 6), (11, 3, 18, 2), (18, 5, 12, 3), (12, 5, 21, 1),\n",
    "    (22, 1, 11, 5), (11, 7, 26, 1), (9, 1, 2, 3), (9, 3, 8, 0), (9, 5, 10, 4), (13, 0, 2, 6),\n",
    "    (8, 3, 13, 2), (10, 7, 13, 4), (7, 0, 6, 4), (1, 2, 6, 0), (10, 0, 5, 0), (10, 2, 7, 2),\n",
    "    (14, 0, 3, 0), (14, 2, 5, 2), (14, 4, 7, 4), (20, 0, 3, 3), (20, 2, 5, 5), (20, 4, 7, 7)\n",
    "]\n",
    "\n",
    "def intersection_func(p1, p2, i1=None, i2=None):\n",
    "    try:\n",
    "        return p1[i1] == p2[i2]\n",
    "    except IndexError:\n",
    "        return False\n",
    "\n",
    "for place1, idx1, place2, idx2 in intersections:\n",
    "    crisscross.addConstraint(partial(intersection_func, i1=idx1, i2=idx2), (place1, place2))\n",
    "\n",
    "res = crisscross.getSolution()\n",
    "\n",
    "# print(res or \"No solution\")\n",
    "\n",
    "set(names) - set(res.values())"
   ]
  },
  {
   "cell_type": "markdown",
   "metadata": {},
   "source": [
    "#### 9. Coordinate Pairs"
   ]
  },
  {
   "cell_type": "code",
   "execution_count": 2,
   "metadata": {},
   "outputs": [
    {
     "name": "stdout",
     "output_type": "stream",
     "text": [
      "['AE', 'BI', 'CL', 'DG', 'FN', 'HK', 'JM']\n"
     ]
    }
   ],
   "source": [
    "from itertools import combinations, chain\n",
    "from math import sqrt, pow\n",
    "from collections import defaultdict\n",
    "from decimal import Decimal\n",
    "\n",
    "\n",
    "coords = {'A':(1,6), 'B':(2,6), 'C':(2,5), 'D':(5,5), 'E':(0,4), 'F':(2,4), 'G':(3,4),\n",
    "          'H':(4,4), 'I':(6,4), 'J':(5,3), 'K':(0,2), 'L':(0,1), 'M':(1,1), 'N':(4,0)}\n",
    "\n",
    "len_coords = len(coords)\n",
    "len_segment_vars = int(len(coords.keys())/2)\n",
    "\n",
    "def get_length(p1, p2):\n",
    "    return Decimal(sqrt(pow((p2[0] - p1[0]), 2) + \\\n",
    "                        pow((p2[1] - p1[1]), 2)))\n",
    "\n",
    "segments_length_map = {f'{p1}{p2}':get_length(coords[p1], coords[p2]) \\\n",
    "                       for p1, p2 in list(combinations(coords.keys(), 2))}\n",
    "\n",
    "segments_length_reverse_map = defaultdict(list)\n",
    "\n",
    "for k, v in segments_length_map.items():\n",
    "    segments_length_reverse_map[v].append(k)\n",
    "\n",
    "def get_letter_sequence(length_pair):\n",
    "    return list(chain(*map(segments_length_reverse_map.get, length_pair)))\n",
    "\n",
    "def has_all_unique_letters(segs):\n",
    "    seen = set(''.join(segs))\n",
    "    return len(seen) == len_coords\n",
    "\n",
    "for length_pair in combinations(segments_length_reverse_map.keys(), 2):\n",
    "    segs = get_letter_sequence(length_pair)\n",
    "    if has_all_unique_letters(segs):\n",
    "        for comb in filter(has_all_unique_letters, combinations(segs, len_segment_vars)):\n",
    "            print(sorted(comb))"
   ]
  },
  {
   "cell_type": "markdown",
   "metadata": {},
   "source": [
    "#### 10. Triangular Skyscrapers"
   ]
  },
  {
   "cell_type": "code",
   "execution_count": 3,
   "metadata": {},
   "outputs": [
    {
     "name": "stdout",
     "output_type": "stream",
     "text": [
      "[2, 8, 1, 6, 7, 3, 5, 4] [7, 8, 4, 2, 6, 1, 3, 5]\n"
     ]
    }
   ],
   "source": [
    "from constraint import Problem, AllDifferentConstraint\n",
    "from functools import partial\n",
    "\n",
    "cells = range(32)\n",
    "values = range(1, 9)\n",
    "\n",
    "p = Problem()\n",
    "p.addVariables(cells, values)\n",
    "\n",
    "p.addConstraint(lambda x: x==1, (1, ))\n",
    "\n",
    "rows = [list(range(8*x, 8*(x+1))) for x in range(4)]\n",
    "rows_visibility = [3, 4, 2, 5]\n",
    "cols = [[31, 30, 17, 16, 15, 14, 1, 0],\n",
    "        [3, 2, 13, 12, 19, 18, 29, 28],\n",
    "        [27, 26, 21, 20, 11, 10, 5, 4],\n",
    "        [7, 6, 9, 8, 23, 22, 25, 24]]\n",
    "cols_visibility = [4, 3, 6, 2]\n",
    "\n",
    "cell_types = {'◤': [0, 4, 9, 13, 16, 20, 25, 29],\n",
    "              '◢': [1, 5, 8, 12, 21, 17, 24, 28],\n",
    "              '◣': [2, 6, 11, 15, 18, 22, 27, 31],\n",
    "              '◥': [3, 7, 10, 14, 19, 23, 26, 30]}\n",
    "for groups in cell_types.values():\n",
    "    p.addConstraint(AllDifferentConstraint(), groups)\n",
    "\n",
    "def visible(*cells, val=0):\n",
    "    highest = 0\n",
    "    visible = 0\n",
    "    for c in cells:\n",
    "        if c > highest:\n",
    "            highest = c\n",
    "            visible += 1\n",
    "    return visible == val\n",
    "\n",
    "for line, vis in zip(chain(rows, cols), chain(rows_visibility, cols_visibility)):\n",
    "    p.addConstraint(AllDifferentConstraint(), line)\n",
    "    p.addConstraint(partial(visible, val=vis), line)\n",
    "\n",
    "sol = p.getSolution()\n",
    "print([sol[x] for x in rows[1][::-1]], [sol[x] for x in cols[1][::-1]])"
   ]
  },
  {
   "cell_type": "markdown",
   "metadata": {},
   "source": [
    "#### 11. Window Pain"
   ]
  },
  {
   "cell_type": "code",
   "execution_count": 91,
   "metadata": {},
   "outputs": [
    {
     "data": {
      "text/plain": [
       "152"
      ]
     },
     "execution_count": 91,
     "metadata": {},
     "output_type": "execute_result"
    }
   ],
   "source": [
    "from itertools import islice, combinations, starmap\n",
    "\n",
    "step = 1\n",
    "\n",
    "x_steps = [0, 2*step, step, step, step, 3*step, 2*step, step, step, step]\n",
    "y_steps = [0, step, step, 3*step, step, step, 2*step, step, step]\n",
    "\n",
    "points = [(sum(islice(x_steps, x+1)),\n",
    "           sum(islice(y_steps, y+1))) \\\n",
    "          for x in range(len(x_steps)) \\\n",
    "          for y in range(len(y_steps))]\n",
    "\n",
    "diags = combinations(points, 2)\n",
    "\n",
    "def is_rectangle(p1, p2):\n",
    "    return abs(p1[0] - p2[0]) == abs(p1[1] - p2[1])\n",
    "\n",
    "sum(starmap(is_rectangle, diags)) // 2"
   ]
  },
  {
   "cell_type": "markdown",
   "metadata": {},
   "source": [
    "#### 12. Masyu"
   ]
  },
  {
   "cell_type": "code",
   "execution_count": 94,
   "metadata": {
    "collapsed": true
   },
   "outputs": [],
   "source": [
    "size = 17\n",
    "grid = range(size * size)\n",
    "\n",
    "class Grid:\n",
    "    pass\n",
    "\n",
    "path_list = ['│', '─', '┌', '┐', '└', '┘']\n",
    "\n",
    "class Point:\n",
    "    def __init__(self, x, y):\n",
    "        self.x = x\n",
    "        self.y = y\n",
    "        self.in_point = None\n",
    "        self.out_point = None\n",
    "        self.visited = False\n",
    "        self.path = None\n",
    "        self.is_start_point = False\n",
    "        \n",
    "    def is_visited(self):\n",
    "        return self.visited\n",
    "    \n",
    "    def visit(self, in_point=None):\n",
    "        self.in_point = in_point\n",
    "        self.visited = True\n",
    "    \n",
    "    def can_move_down(self):\n",
    "        return self.y+1 < size and not Grid.point_at(self.x, self.y+1).visited\n",
    "    \n",
    "    def can_move_up(self):\n",
    "        return self.y-1 >= 0 and not Grid.point_at(self.x, self.y-1).visited\n",
    "    \n",
    "    def can_move_left(self):\n",
    "        return self.x-1 >= 0 and not Grid.point_at(self.x-1, self.y).visited\n",
    "    \n",
    "    def can_move_right(self):\n",
    "        return self.x+1 < size and not Grid.point_at(self.x+1, self.y).visited\n",
    "    \n",
    "    def next_moves(self):\n",
    "        moves = []\n",
    "        if self.path == '│':\n",
    "            # downward movement\n",
    "            if self.in_point.y < self.y:\n",
    "                if self.can_move_down():\n",
    "                    # TODO: check Circle color logic\n",
    "                    moves.append(Grid.point_at(self.x, self.y+1))\n",
    "            else:\n",
    "                if self.can_move_up():\n",
    "                    #TODO: check Circle color logic\n",
    "                    moves.append(Grid.point_at(self.x, self.y-1))\n",
    "        elif self.path == '─':\n",
    "            # left-to-right movement\n",
    "            if self.in_point.x < self.x:\n",
    "                if self.can_move_right():\n",
    "                    moves.append\n",
    "                \n",
    "\n",
    "        \n",
    "class Circle(Point):\n",
    "    def __init__(self, x, y, color=None, letter=None):\n",
    "        super(Circle, self).__init__(x, y)\n",
    "        self.color = color\n",
    "        self.letter = letter\n",
    "    \n",
    "    \n",
    "        \n",
    "    \n",
    "    \n",
    "    "
   ]
  }
 ],
 "metadata": {
  "kernelspec": {
   "display_name": "Python 3",
   "language": "python",
   "name": "python3"
  },
  "language_info": {
   "codemirror_mode": {
    "name": "ipython",
    "version": 3
   },
   "file_extension": ".py",
   "mimetype": "text/x-python",
   "name": "python",
   "nbconvert_exporter": "python",
   "pygments_lexer": "ipython3",
   "version": "3.6.3"
  }
 },
 "nbformat": 4,
 "nbformat_minor": 2
}
