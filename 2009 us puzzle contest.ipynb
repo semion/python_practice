{
 "cells": [
  {
   "cell_type": "markdown",
   "metadata": {},
   "source": [
    "## Solving puzzles with Python\n",
    "\n",
    "The puzzles in [this pdf](/files/uspc-09.pdf) are from US Puzzle Contest 2009. PDF password is `barMd345`."
   ]
  },
  {
   "cell_type": "code",
   "execution_count": 45,
   "metadata": {
    "collapsed": true
   },
   "outputs": [],
   "source": [
    "from itertools import product, combinations, permutations, tee, islice, repeat, combinations_with_replacement\n",
    "from collections import Counter\n",
    "from random import choice\n",
    "from constraint import Problem, BacktrackingSolver"
   ]
  },
  {
   "cell_type": "markdown",
   "metadata": {},
   "source": [
    "#### 1. Battleships (Moshe Rubin) - 5 points\n",
    "\n",
    "> Locate the position of the 10-ship fleet in\n",
    " the grid. The fleet is shown below: one \n",
    "4-unit battleship, two 3-unit cruisers, \n",
    "three 2-unit destroyers, and four 1-unit \n",
    "submarines. Each segment of a ship occupies a single cell. Ships are oriented \n",
    "either horizontally or vertically, \n",
    "and they do not touch each other, not even \n",
    "diagonally. The numbers on the right and bottom edges of the grid reveal the total \n",
    "number of ship segments that appear in each respective row or column. (For \n",
    "solving purposes, ignore the letters above and to the left of the grid.)\n",
    "\n",
    "<img src='/files/2009_1_battleships_fleet.png' />\n",
    "<img src='/files/2009_1_battleships_grid.png' />\n",
    "\n",
    "> Answer: Enter the coordinates of the three missing 1-unit\n",
    " submarines (using the letters above and to the left of \n",
    "the grid). "
   ]
  },
  {
   "cell_type": "code",
   "execution_count": 2,
   "metadata": {
    "collapsed": true
   },
   "outputs": [],
   "source": [
    "# ship pseudo-graphic:\n",
    "# h - ltr head\n",
    "# t - ltr head\n",
    "# H - up-down head\n",
    "# T - up-down tail\n",
    "# b - ltr body segment\n",
    "# B - up-down body segment\n",
    "# s - 1-unit submarine\n",
    "# W - water (empty cell)'"
   ]
  },
  {
   "cell_type": "code",
   "execution_count": 82,
   "metadata": {
    "collapsed": false
   },
   "outputs": [
    {
     "name": "stdout",
     "output_type": "stream",
     "text": [
      "{0: '99', 1: '98', 2: '97', 3: '96', 4: '95', 5: '94', 6: '93', 7: '92', 8: '91', 9: '90'}\n",
      "{0: '99', 1: '98', 2: '97', 3: '96', 4: '95', 5: '94', 6: '93', 7: '92', 8: '91', 9: '90'}\n",
      "{0: '99', 1: '98', 2: '97', 3: '96', 4: '95', 5: '94', 6: '93', 7: '92', 8: '91', 9: '90'}\n",
      "{0: '99', 1: '98', 2: '97', 3: '96', 4: '95', 5: '94', 6: '93', 7: '92', 8: '91', 9: '90'}\n",
      "{0: '99', 1: '98', 2: '97', 3: '96', 4: '95', 5: '94', 6: '93', 7: '92', 8: '91', 9: '90'}\n",
      "{0: '99', 1: '98', 2: '97', 3: '96', 4: '95', 5: '94', 6: '93', 7: '92', 8: '91', 9: '90'}\n",
      "{0: '99', 1: '98', 2: '97', 3: '96', 4: '95', 5: '94', 6: '93', 7: '92', 8: '91', 9: '90'}\n",
      "{0: '99', 1: '98', 2: '97', 3: '96', 4: '95', 5: '94', 6: '93', 7: '92', 8: '91', 9: '90'}\n",
      "{0: '99', 1: '98', 2: '97', 3: '96', 4: '95', 5: '94', 6: '93', 7: '92', 8: '91', 9: '90'}\n",
      "{0: '99', 1: '98', 2: '97', 3: '96', 4: '95', 5: '94', 6: '93', 7: '92', 8: '91', 9: '90'}\n",
      "{0: '99', 1: '98', 2: '97', 3: '96', 4: '95', 5: '94', 6: '93', 7: '92', 8: '91', 9: '90'}\n",
      "{0: '99', 1: '98', 2: '97', 3: '96', 4: '95', 5: '94', 6: '93', 7: '92', 8: '91', 9: '90'}\n",
      "{0: '99', 1: '98', 2: '97', 3: '96', 4: '95', 5: '94', 6: '93', 7: '92', 8: '91', 9: '90'}\n",
      "{0: '99', 1: '98', 2: '97', 3: '96', 4: '95', 5: '94', 6: '93', 7: '92', 8: '91', 9: '90'}\n",
      "{0: '99', 1: '98', 2: '97', 3: '96', 4: '95', 5: '94', 6: '93', 7: '92', 8: '91', 9: '90'}\n",
      "{0: '99', 1: '98', 2: '97', 3: '96', 4: '95', 5: '94', 6: '93', 7: '92', 8: '91', 9: '90'}\n",
      "{0: '99', 1: '98', 2: '97', 3: '96', 4: '95', 5: '94', 6: '93', 7: '92', 8: '91', 9: '90'}\n",
      "{0: '99', 1: '98', 2: '97', 3: '96', 4: '95', 5: '94', 6: '93', 7: '92', 8: '91', 9: '90'}\n",
      "{0: '99', 1: '98', 2: '97', 3: '96', 4: '95', 5: '94', 6: '93', 7: '92', 8: '91', 9: '90'}\n",
      "{0: '99', 1: '98', 2: '97', 3: '96', 4: '95', 5: '94', 6: '93', 7: '92', 8: '91', 9: '90'}\n",
      "{0: '99', 1: '98', 2: '97', 3: '96', 4: '95', 5: '94', 6: '93', 7: '92', 8: '91', 9: '90'}\n",
      "{0: '99', 1: '98', 2: '97', 3: '96', 4: '95', 5: '94', 6: '93', 7: '92', 8: '91', 9: '90'}\n",
      "{0: '99', 1: '98', 2: '97', 3: '96', 4: '95', 5: '94', 6: '93', 7: '92', 8: '91', 9: '90'}\n",
      "{0: '99', 1: '98', 2: '97', 3: '96', 4: '95', 5: '94', 6: '93', 7: '92', 8: '91', 9: '90'}\n"
     ]
    }
   ],
   "source": [
    "from string import ascii_uppercase\n",
    "from operator import eq\n",
    "import sys\n",
    "\n",
    "grid_size = 10\n",
    "possible_values = [f'{i:02}' for i in range(grid_size*grid_size)]\n",
    "visibility = {'T': 1, 'H': 1, 'B': 1, 'S': 1, 'W': 0}\n",
    "row_visible_parts = [4, 0, 2, 1, 1, 2, 0, 5, 0, 5]\n",
    "col_visible_parts = [2, 2, 1, 1, 1, 2, 2, 1, 6, 2]\n",
    "known_parts = {'00': 's', '20': 'W', '92': 'B', '97': 'H'}\n",
    "fleet_size = 10\n",
    "\n",
    "b2 = list(combinations_with_replacement(['hbbt', 'HBBT'], 1))\n",
    "b1 = list(combinations_with_replacement(['hbt', 'HBT'], 2))\n",
    "b0 = list(combinations_with_replacement(['ht', 'HT'], 3))\n",
    "subs = ['s', 's', 's', 's']\n",
    "\n",
    "fleet_permutations = [list(chain(x, y, z, subs)) for x in b2 for y in b1 for z in b0]\n",
    "\n",
    "for fleet in fleet_permutations:\n",
    "    p = Problem()\n",
    "    p.addVariables(range(fleet_size), possible_values)\n",
    "    p.addConstraint(AllDifferentConstraint(), range(fleet_size))\n",
    "    print(p.getSolution())"
   ]
  },
  {
   "cell_type": "code",
   "execution_count": 35,
   "metadata": {
    "collapsed": false
   },
   "outputs": [
    {
     "ename": "KeyboardInterrupt",
     "evalue": "",
     "output_type": "error",
     "traceback": [
      "\u001b[0;31m---------------------------------------------------------------------------\u001b[0m",
      "\u001b[0;31mKeyboardInterrupt\u001b[0m                         Traceback (most recent call last)",
      "\u001b[0;32m<ipython-input-35-57c1e3e50890>\u001b[0m in \u001b[0;36m<module>\u001b[0;34m()\u001b[0m\n\u001b[1;32m     30\u001b[0m     \u001b[0mp\u001b[0m\u001b[0;34m.\u001b[0m\u001b[0maddConstraint\u001b[0m\u001b[0;34m(\u001b[0m\u001b[0;32mlambda\u001b[0m \u001b[0mx\u001b[0m\u001b[0;34m,\u001b[0m \u001b[0mval\u001b[0m\u001b[0;34m=\u001b[0m\u001b[0mpart\u001b[0m\u001b[0;34m:\u001b[0m \u001b[0mx\u001b[0m \u001b[0;34m==\u001b[0m \u001b[0mval\u001b[0m\u001b[0;34m,\u001b[0m \u001b[0;34m(\u001b[0m\u001b[0mcell\u001b[0m\u001b[0;34m,\u001b[0m\u001b[0;34m)\u001b[0m\u001b[0;34m)\u001b[0m\u001b[0;34m\u001b[0m\u001b[0m\n\u001b[1;32m     31\u001b[0m \u001b[0;34m\u001b[0m\u001b[0m\n\u001b[0;32m---> 32\u001b[0;31m \u001b[0mp\u001b[0m\u001b[0;34m.\u001b[0m\u001b[0mgetSolution\u001b[0m\u001b[0;34m(\u001b[0m\u001b[0;34m)\u001b[0m\u001b[0;34m\u001b[0m\u001b[0m\n\u001b[0m",
      "\u001b[0;32m/usr/local/lib/python3.6/dist-packages/constraint/__init__.py\u001b[0m in \u001b[0;36mgetSolution\u001b[0;34m(self)\u001b[0m\n\u001b[1;32m    229\u001b[0m         \u001b[0;32mif\u001b[0m \u001b[0;32mnot\u001b[0m \u001b[0mdomains\u001b[0m\u001b[0;34m:\u001b[0m\u001b[0;34m\u001b[0m\u001b[0m\n\u001b[1;32m    230\u001b[0m             \u001b[0;32mreturn\u001b[0m \u001b[0;32mNone\u001b[0m\u001b[0;34m\u001b[0m\u001b[0m\n\u001b[0;32m--> 231\u001b[0;31m         \u001b[0;32mreturn\u001b[0m \u001b[0mself\u001b[0m\u001b[0;34m.\u001b[0m\u001b[0m_solver\u001b[0m\u001b[0;34m.\u001b[0m\u001b[0mgetSolution\u001b[0m\u001b[0;34m(\u001b[0m\u001b[0mdomains\u001b[0m\u001b[0;34m,\u001b[0m \u001b[0mconstraints\u001b[0m\u001b[0;34m,\u001b[0m \u001b[0mvconstraints\u001b[0m\u001b[0;34m)\u001b[0m\u001b[0;34m\u001b[0m\u001b[0m\n\u001b[0m\u001b[1;32m    232\u001b[0m \u001b[0;34m\u001b[0m\u001b[0m\n\u001b[1;32m    233\u001b[0m     \u001b[0;32mdef\u001b[0m \u001b[0mgetSolutions\u001b[0m\u001b[0;34m(\u001b[0m\u001b[0mself\u001b[0m\u001b[0;34m)\u001b[0m\u001b[0;34m:\u001b[0m\u001b[0;34m\u001b[0m\u001b[0m\n",
      "\u001b[0;32m/usr/local/lib/python3.6/dist-packages/constraint/__init__.py\u001b[0m in \u001b[0;36mgetSolution\u001b[0;34m(self, domains, constraints, vconstraints)\u001b[0m\n\u001b[1;32m    541\u001b[0m         \u001b[0miter\u001b[0m \u001b[0;34m=\u001b[0m \u001b[0mself\u001b[0m\u001b[0;34m.\u001b[0m\u001b[0mgetSolutionIter\u001b[0m\u001b[0;34m(\u001b[0m\u001b[0mdomains\u001b[0m\u001b[0;34m,\u001b[0m \u001b[0mconstraints\u001b[0m\u001b[0;34m,\u001b[0m \u001b[0mvconstraints\u001b[0m\u001b[0;34m)\u001b[0m\u001b[0;34m\u001b[0m\u001b[0m\n\u001b[1;32m    542\u001b[0m         \u001b[0;32mtry\u001b[0m\u001b[0;34m:\u001b[0m\u001b[0;34m\u001b[0m\u001b[0m\n\u001b[0;32m--> 543\u001b[0;31m             \u001b[0;32mreturn\u001b[0m \u001b[0mnext\u001b[0m\u001b[0;34m(\u001b[0m\u001b[0miter\u001b[0m\u001b[0;34m)\u001b[0m\u001b[0;34m\u001b[0m\u001b[0m\n\u001b[0m\u001b[1;32m    544\u001b[0m         \u001b[0;32mexcept\u001b[0m \u001b[0mStopIteration\u001b[0m\u001b[0;34m:\u001b[0m\u001b[0;34m\u001b[0m\u001b[0m\n\u001b[1;32m    545\u001b[0m             \u001b[0;32mreturn\u001b[0m \u001b[0;32mNone\u001b[0m\u001b[0;34m\u001b[0m\u001b[0m\n",
      "\u001b[0;32m/usr/local/lib/python3.6/dist-packages/constraint/__init__.py\u001b[0m in \u001b[0;36mgetSolutionIter\u001b[0;34m(self, domains, constraints, vconstraints)\u001b[0m\n\u001b[1;32m    523\u001b[0m                 \u001b[0;32mfor\u001b[0m \u001b[0mconstraint\u001b[0m\u001b[0;34m,\u001b[0m \u001b[0mvariables\u001b[0m \u001b[0;32min\u001b[0m \u001b[0mvconstraints\u001b[0m\u001b[0;34m[\u001b[0m\u001b[0mvariable\u001b[0m\u001b[0;34m]\u001b[0m\u001b[0;34m:\u001b[0m\u001b[0;34m\u001b[0m\u001b[0m\n\u001b[1;32m    524\u001b[0m                     if not constraint(variables, domains, assignments,\n\u001b[0;32m--> 525\u001b[0;31m                                       pushdomains):\n\u001b[0m\u001b[1;32m    526\u001b[0m                         \u001b[0;31m# Value is not good.\u001b[0m\u001b[0;34m\u001b[0m\u001b[0;34m\u001b[0m\u001b[0m\n\u001b[1;32m    527\u001b[0m                         \u001b[0;32mbreak\u001b[0m\u001b[0;34m\u001b[0m\u001b[0m\n",
      "\u001b[0;32m/usr/local/lib/python3.6/dist-packages/constraint/__init__.py\u001b[0m in \u001b[0;36m__call__\u001b[0;34m(self, variables, domains, assignments, forwardcheck, _unassigned)\u001b[0m\n\u001b[1;32m    960\u001b[0m             return ((self._assigned or self._func(*parms)) and\n\u001b[1;32m    961\u001b[0m                     (not forwardcheck or missing != 1 or\n\u001b[0;32m--> 962\u001b[0;31m                      self.forwardCheck(variables, domains, assignments)))\n\u001b[0m\u001b[1;32m    963\u001b[0m         \u001b[0;32mreturn\u001b[0m \u001b[0mself\u001b[0m\u001b[0;34m.\u001b[0m\u001b[0m_func\u001b[0m\u001b[0;34m(\u001b[0m\u001b[0;34m*\u001b[0m\u001b[0mparms\u001b[0m\u001b[0;34m)\u001b[0m\u001b[0;34m\u001b[0m\u001b[0m\n\u001b[1;32m    964\u001b[0m \u001b[0;34m\u001b[0m\u001b[0m\n",
      "\u001b[0;32m/usr/local/lib/python3.6/dist-packages/constraint/__init__.py\u001b[0m in \u001b[0;36mforwardCheck\u001b[0;34m(self, variables, domains, assignments, _unassigned)\u001b[0m\n\u001b[1;32m    911\u001b[0m                     \u001b[0;32mfor\u001b[0m \u001b[0mvalue\u001b[0m \u001b[0;32min\u001b[0m \u001b[0mdomain\u001b[0m\u001b[0;34m[\u001b[0m\u001b[0;34m:\u001b[0m\u001b[0;34m]\u001b[0m\u001b[0;34m:\u001b[0m\u001b[0;34m\u001b[0m\u001b[0m\n\u001b[1;32m    912\u001b[0m                         \u001b[0massignments\u001b[0m\u001b[0;34m[\u001b[0m\u001b[0munassignedvariable\u001b[0m\u001b[0;34m]\u001b[0m \u001b[0;34m=\u001b[0m \u001b[0mvalue\u001b[0m\u001b[0;34m\u001b[0m\u001b[0m\n\u001b[0;32m--> 913\u001b[0;31m                         \u001b[0;32mif\u001b[0m \u001b[0;32mnot\u001b[0m \u001b[0mself\u001b[0m\u001b[0;34m(\u001b[0m\u001b[0mvariables\u001b[0m\u001b[0;34m,\u001b[0m \u001b[0mdomains\u001b[0m\u001b[0;34m,\u001b[0m \u001b[0massignments\u001b[0m\u001b[0;34m)\u001b[0m\u001b[0;34m:\u001b[0m\u001b[0;34m\u001b[0m\u001b[0m\n\u001b[0m\u001b[1;32m    914\u001b[0m                             \u001b[0mdomain\u001b[0m\u001b[0;34m.\u001b[0m\u001b[0mhideValue\u001b[0m\u001b[0;34m(\u001b[0m\u001b[0mvalue\u001b[0m\u001b[0;34m)\u001b[0m\u001b[0;34m\u001b[0m\u001b[0m\n\u001b[1;32m    915\u001b[0m                     \u001b[0;32mdel\u001b[0m \u001b[0massignments\u001b[0m\u001b[0;34m[\u001b[0m\u001b[0munassignedvariable\u001b[0m\u001b[0;34m]\u001b[0m\u001b[0;34m\u001b[0m\u001b[0m\n",
      "\u001b[0;32m/usr/local/lib/python3.6/dist-packages/constraint/__init__.py\u001b[0m in \u001b[0;36m__call__\u001b[0;34m(self, variables, domains, assignments, forwardcheck, _unassigned)\u001b[0m\n\u001b[1;32m    955\u001b[0m     def __call__(self, variables, domains, assignments, forwardcheck=False,\n\u001b[1;32m    956\u001b[0m                  _unassigned=Unassigned):\n\u001b[0;32m--> 957\u001b[0;31m         \u001b[0mparms\u001b[0m \u001b[0;34m=\u001b[0m \u001b[0;34m[\u001b[0m\u001b[0massignments\u001b[0m\u001b[0;34m.\u001b[0m\u001b[0mget\u001b[0m\u001b[0;34m(\u001b[0m\u001b[0mx\u001b[0m\u001b[0;34m,\u001b[0m \u001b[0m_unassigned\u001b[0m\u001b[0;34m)\u001b[0m \u001b[0;32mfor\u001b[0m \u001b[0mx\u001b[0m \u001b[0;32min\u001b[0m \u001b[0mvariables\u001b[0m\u001b[0;34m]\u001b[0m\u001b[0;34m\u001b[0m\u001b[0m\n\u001b[0m\u001b[1;32m    958\u001b[0m         \u001b[0mmissing\u001b[0m \u001b[0;34m=\u001b[0m \u001b[0mparms\u001b[0m\u001b[0;34m.\u001b[0m\u001b[0mcount\u001b[0m\u001b[0;34m(\u001b[0m\u001b[0m_unassigned\u001b[0m\u001b[0;34m)\u001b[0m\u001b[0;34m\u001b[0m\u001b[0m\n\u001b[1;32m    959\u001b[0m         \u001b[0;32mif\u001b[0m \u001b[0mmissing\u001b[0m\u001b[0;34m:\u001b[0m\u001b[0;34m\u001b[0m\u001b[0m\n",
      "\u001b[0;31mKeyboardInterrupt\u001b[0m: "
     ]
    }
   ],
   "source": [
    "from string import ascii_uppercase\n",
    "from operator import eq\n",
    "import sys\n",
    "\n",
    "size = 10\n",
    "possible_values = 'THBSW'\n",
    "visibility = {'T': 1, 'H': 1, 'B': 1, 'S': 1, 'W': 0}\n",
    "grid_variables = [f'{i:02}' for i in range(size*size)]\n",
    "\n",
    "p = Problem()\n",
    "p.addVariables(grid_variables, possible_values)\n",
    "\n",
    "def visible_parts(*cells, val=None):\n",
    "    return sum(map(visibility.get, cells)) == val\n",
    "\n",
    "row_visible_parts = [4, 0, 2, 1, 1, 2, 0, 5, 0, 5]\n",
    "for i, val in enumerate(row_visible_parts):\n",
    "    col = [f'{i}{j}' for j in range(size)]\n",
    "    p.addConstraint(partial(visible_parts, val=val), col)\n",
    "    if val == 0:\n",
    "        p.addConstraint(lambda *cell: all(map(partial(eq, 'W'), cell)), col)\n",
    "\n",
    "col_visible_parts = [2, 2, 1, 1, 1, 2, 2, 1, 6, 2]\n",
    "for j, val in enumerate(col_visible_parts):\n",
    "    row = [f'{i}{j}' for i in range(size)]\n",
    "    p.addConstraint(partial(visible_parts, val=val), row)\n",
    "\n",
    "known_parts = {'00': 'S', '20': 'W', '92': 'B', '97': 'T'}\n",
    "for cell, part in known_parts.items():\n",
    "    p.addConstraint(lambda x, val=part: x == val, (cell,))\n",
    "\n",
    "p.getSolution()"
   ]
  },
  {
   "cell_type": "markdown",
   "metadata": {},
   "source": [
    "#### 2. Sudoku (Nikoli) – 10 points\n",
    "\n",
    "> Place the digits 1 through 9 into the empty squares (one per square) so that each digit appears exactly once in\n",
    "each of the following regions: the nine rows, the nine columns, and the nine outlined 3x3 regions.\n",
    "\n",
    "> Answer: Enter the seventh row of digits, followed by the seventh column of digits."
   ]
  },
  {
   "cell_type": "code",
   "execution_count": 4,
   "metadata": {
    "collapsed": false
   },
   "outputs": [
    {
     "name": "stdout",
     "output_type": "stream",
     "text": [
      "[3, 4, 1, 6, 2, 8, 5, 9, 7]\n",
      "[4, 7, 1, 9, 8, 2, 5, 3, 6]\n"
     ]
    }
   ],
   "source": [
    "# credit: https://simplapi.wordpress.com/2012/11/02/python-constraint-and-sudoku/\n",
    "\n",
    "from constraint import Problem, InSetConstraint, AllDifferentConstraint\n",
    "import math\n",
    " \n",
    "def solveSudoku(size = 9, originalGame = None):\n",
    "    \"\"\" Solving Sudoku of any size \"\"\"\n",
    "    sudoku = Problem()\n",
    " \n",
    "    #Defining size of row/col\n",
    "    rows = range(size)\n",
    "    cols = range(size)\n",
    " \n",
    "    #Creating board\n",
    "    board = [(row, col) for row in rows for col in cols]\n",
    "    #Defining game variable, a single range will be enough\n",
    "    sudoku.addVariables(board, range(1, size + 1))\n",
    " \n",
    "    #Row set\n",
    "    rowSet = [list(zip([el] * len(cols), cols)) for el in rows]\n",
    "    colSet = [list(zip(rows, [el] * len(rows))) for el in cols]\n",
    "  \n",
    "    #The original board is not empty, we add that constraint to the list of constraint\n",
    "    if originalGame is not None:\n",
    "        for i in range(0, size):\n",
    "            for j in range(0, size):\n",
    "                #Getting the value of the current game\n",
    "                o = originalGame[i][j]\n",
    "                #We apply constraint when the number is set only\n",
    "                if o > 0:\n",
    "                    #We get the associated tuple\n",
    "                    t = (rows[i],cols[j])\n",
    "                    #We set a basic equal constraint rule to force the system to keep that variable at that place\n",
    "                    sudoku.addConstraint(lambda var, val=o: var == val, (t,))\n",
    " \n",
    "    #The constraint are like that : and each row, and each columns, got same final compute value\n",
    " \n",
    "    for row in rowSet:\n",
    "        sudoku.addConstraint(AllDifferentConstraint(), row)\n",
    "    for col in colSet:\n",
    "        sudoku.addConstraint(AllDifferentConstraint(), col)\n",
    " \n",
    "    #Every sqrt(size) (3x3 box constraint) got same sum\n",
    "    sqSize = int(math.floor(math.sqrt(size)))\n",
    " \n",
    "    #xrange allow to define a step, here sq (wich is sq = 3 in 9x9 sudoku)\n",
    "    for i in range(0,size,sqSize):\n",
    "        for j in range(0,size,sqSize):\n",
    "            #Computing the list of tuple linked to that box\n",
    "            box = []\n",
    "            for k in range(0, sqSize):\n",
    "                for l in range(0, sqSize):\n",
    "                    #The tuple i+k, j+l is inside that box\n",
    "                    box.append( (i+k, j+l) )\n",
    "            #Compute is done, now we can add the constraint for that box\n",
    "            sudoku.addConstraint(AllDifferentConstraint(), box)\n",
    " \n",
    "    #Computing and returning final result\n",
    "    return sudoku.getSolution()\n",
    " \n",
    " \n",
    "\n",
    "rg = 9\n",
    "initValue = [[0, 1, 0, 5, 0, 0, 0, 8, 0],\n",
    "             [0, 2, 3, 4, 0, 0, 7, 0, 0],\n",
    "             [0, 0, 0, 0, 0, 6, 0, 0, 0],\n",
    "             [0, 0, 8, 1, 0, 0, 0, 0, 5],\n",
    "             [0, 7, 0, 0, 0, 0, 0, 4, 0],\n",
    "             [6, 0, 0, 0, 0, 3, 2, 0, 0],\n",
    "             [0, 0, 0, 6, 0, 0, 0, 0, 0],\n",
    "             [0, 0, 7, 0, 0, 4, 3, 2, 0],\n",
    "             [0, 8, 0, 0, 0, 5, 0, 1, 0]]\n",
    "\n",
    "res = solveSudoku(rg, initValue)\n",
    "if res is not None:\n",
    "#     for i in range(0, rg):\n",
    "#         for j in range(0, rg):\n",
    "#             print(res[i, j], end='')\n",
    "#         print()\n",
    "#     print()\n",
    "    \n",
    "    print([res[6, i] for i in range(rg)])\n",
    "    print([res[i, 6] for i in range(rg)])\n",
    "else:\n",
    "    print(\"No result to show\")"
   ]
  },
  {
   "cell_type": "markdown",
   "metadata": {},
   "source": [
    "#### 3. Missing Operation KenKen® (Nextoy LLC) – 10 points\n",
    "\n",
    "> Standard KenKen rules apply, but with the\n",
    "operations missing.\n",
    "Fill each square with a digit between 1 and 6,\n",
    "not repeating a digit in any row or column. Each\n",
    "outlined region (cage) includes a target number,\n",
    "which is the result of some one arithmetic\n",
    "operation applied to all the digits inside the\n",
    "cage.\n",
    "Cages with one square have no operation: the\n",
    "missing digit is the same as the target.\n",
    "Subtraction and division only appear in cages\n",
    "with two squares, and the digits may appear in\n",
    "any order. For cages with more that two\n",
    "squares, the digits are added or multiplied\n",
    "individually."
   ]
  },
  {
   "cell_type": "code",
   "execution_count": 5,
   "metadata": {
    "collapsed": false
   },
   "outputs": [
    {
     "name": "stdout",
     "output_type": "stream",
     "text": [
      "[3, 1, 2, 4, 6, 5]\n",
      "[3, 1, 4, 5, 6, 2]\n"
     ]
    }
   ],
   "source": [
    "from constraint import Problem, AllDifferentConstraint\n",
    "from functools import partial, reduce\n",
    "from operator import mul\n",
    "\n",
    "size = 6\n",
    "\n",
    "kenken = Problem()\n",
    "\n",
    "#Defining size of row/col\n",
    "rows = range(size)\n",
    "cols = range(size)\n",
    "\n",
    "#Creating board\n",
    "board = [(row, col) for row in rows for col in cols]\n",
    "#Defining game variable, a single range will be enough\n",
    "kenken.addVariables(board, range(1, size + 1))\n",
    "\n",
    "#Row set\n",
    "rowSet = [list(zip([el] * len(cols), cols)) for el in rows]\n",
    "colSet = [list(zip(rows, [el] * len(rows))) for el in cols]\n",
    "\n",
    "for row in rowSet:\n",
    "    kenken.addConstraint(AllDifferentConstraint(), row)\n",
    "for col in colSet:\n",
    "    kenken.addConstraint(AllDifferentConstraint(), col)\n",
    "\n",
    "regions = [  (4,  [(0, 0), (0, 1)]),\n",
    "             (40, [(0, 2), (0, 3), (1, 3)]),\n",
    "             (3,  [(0, 4), (0, 5)]),\n",
    "             (12, [(1, 0), (1, 1), (1, 2)]),\n",
    "             (3,  [(1, 4), (1, 5), (2, 5)]),\n",
    "             (15, [(2, 0), (3, 0), (3, 1)]),\n",
    "             (2,  [(2, 1)]),\n",
    "             (3,  [(2, 2), (3, 2)]),\n",
    "             (10, [(2, 3), (2, 4)]),\n",
    "             (21, [(3, 3), (3, 4), (3, 5), (4, 4), (4, 5)]),\n",
    "             (6,  [(4, 0), (4, 1), (4, 2)]),\n",
    "             (20, [(4, 3), (5, 3), (5, 2)]),\n",
    "             (2,  [(5, 0), (5, 1)]),\n",
    "             (2,  [(5, 4), (5, 5)])]\n",
    "    \n",
    "\n",
    "def func(*cells, value=None):\n",
    "    if len(cells) == 1:\n",
    "        return cells[0] == value\n",
    "    elif len(cells) == 2:\n",
    "        return any([sum(cells) == value,\n",
    "                    cells[0] - cells[1] == value,\n",
    "                    cells[1] - cells[0] == value,\n",
    "                    mul(*cells) == value,\n",
    "                    cells[0] / cells[1] == value,\n",
    "                    cells[1] / cells[0] == value])\n",
    "    else:\n",
    "        return any([sum(cells) == value,\n",
    "                    reduce(mul, cells) == value])\n",
    "\n",
    "for val, region in regions:\n",
    "    kenken.addConstraint(partial(func, value=val), region)\n",
    "    \n",
    "\n",
    "res = kenken.getSolution()\n",
    "if res is not None:\n",
    "#     for i in range(0, size):\n",
    "#         for j in range(0, size):\n",
    "#             print(res[i, j], end='')\n",
    "#         print()\n",
    "#     print()\n",
    "    print([res[4, i] for i in range(size)])\n",
    "    print([res[i, 4] for i in range(size)])\n",
    "else:\n",
    "    print(\"No solution\")"
   ]
  },
  {
   "cell_type": "markdown",
   "metadata": {},
   "source": [
    "#### 4. Sum Thing (Ed Pegg Jr.) - 10 points\n",
    "\n",
    "> Place each of the digits 0 through 9 into the empty circles (one per circle) so that the sum of the digits along each\n",
    "line is equal to 13."
   ]
  },
  {
   "cell_type": "code",
   "execution_count": 6,
   "metadata": {
    "collapsed": false
   },
   "outputs": [
    {
     "name": "stdout",
     "output_type": "stream",
     "text": [
      "0, 6, 5, 2, 8, 4, 1, 7, 9, 3\n"
     ]
    }
   ],
   "source": [
    "from constraint import Problem, AllDifferentConstraint, ExactSumConstraint\n",
    "from functools import partial, reduce\n",
    "from operator import mul\n",
    "\n",
    "size = 10\n",
    "line_sum = 13\n",
    "board = range(size)\n",
    "lines = [[0, 1, 7], [0, 5, 8], [0, 2, 4], [1, 2, 3], [1, 5, 9],\n",
    "         [2, 6, 7], [3, 5, 7], [3, 4, 9], [4, 5, 6], [6, 8, 9]]\n",
    "\n",
    "thing = Problem()\n",
    "thing.addVariables(board, range(size))\n",
    "thing.addConstraint(AllDifferentConstraint(), board)\n",
    "for line in lines:\n",
    "    thing.addConstraint(ExactSumConstraint(line_sum), line)\n",
    "\n",
    "res = thing.getSolution()\n",
    "if res is not None:\n",
    "    print(', '.join([str(res[i]) for i in board]))\n",
    "else:\n",
    "    print(\"No solution\")"
   ]
  },
  {
   "cell_type": "markdown",
   "metadata": {},
   "source": [
    "#### 7. Writer's Block (Craig Kasper) - 10 points\n",
    "\n",
    "> Enter names into the crisscross grid across and down, one letter per square. Four names will not be used.\n",
    "Use only the portions of the name that are fully capitalized, ignoring spaces and punctuation; names are sorted\n",
    "and grouped by length.\n",
    "\n",
    "> Answer: Enter the four missing capitalized names (ignore spaces and punctuation if any).\n",
    "\n",
    "<img src='/files/2009_7_writers_block.png' />"
   ]
  },
  {
   "cell_type": "code",
   "execution_count": 7,
   "metadata": {
    "collapsed": false
   },
   "outputs": [
    {
     "data": {
      "text/plain": [
       "{'ALBOM', 'ASIMOV', 'JKROWLING', 'MACLEISH'}"
      ]
     },
     "execution_count": 7,
     "metadata": {},
     "output_type": "execute_result"
    }
   ],
   "source": [
    "from constraint import Problem, AllDifferentConstraint\n",
    "from functools import partial\n",
    "\n",
    "names = ['ALBEE', 'ALBOM', 'ALGER', 'BLAKE', 'FROST', 'GRIMM', 'MAMET',\n",
    "         'PLATH', 'TYLER', 'WELTY', 'ASIMOV', 'BRONTE', 'CAPOTE', 'CHABON',\n",
    "         'HORACE', 'JEWETT', 'KILMER', 'MAILER', 'MILLER', 'MILTON', 'ONEILL',\n",
    "         'FAULKNER', 'MACLEISH', 'MCCARTHY', 'MELVILLE', 'MICHENER', 'HARPERLEE',\n",
    "         'HEMINGWAY', 'JAMESAGEE', 'JKROWLING', 'NEILSIMON']\n",
    "\n",
    "places_count = 27\n",
    "places = range(places_count)\n",
    "\n",
    "crisscross = Problem()\n",
    "crisscross.addVariables(places, names)\n",
    "\n",
    "crisscross.addConstraint(AllDifferentConstraint(), places)\n",
    "\n",
    "place_sizes = {0:5, 1:5, 2:9, 3:6, 4:6, 5:8, 6:5, 7:8, 8:6, 9:6,\n",
    "               10:8, 11:9, 12:9, 13:5, 14:6, 15:6, 16:5, 17:6, 18:6,\n",
    "               19:6, 20:5, 21:8, 22:5, 23:5, 24:5, 25:6, 26:9}\n",
    "\n",
    "for place, size in place_sizes.items():\n",
    "    crisscross.addConstraint(lambda x, s=size: len(x) == s, (place, ))\n",
    "\n",
    "# place1, index1, place2, index2\n",
    "intersections = [(0, 0, 17, 0),\n",
    "                 (4, 0, 17, 2),\n",
    "                 (12, 3, 17, 5),\n",
    "                 (23, 1, 4, 5),\n",
    "                 (23, 4, 12, 8),\n",
    "                 (21, 1, 12, 5),\n",
    "                 (12, 0, 15, 0),\n",
    "                 (16, 4, 25, 0),\n",
    "                 (19, 2, 24, 1),\n",
    "                 (21, 6, 24, 3),\n",
    "                 (19, 4, 26, 7),\n",
    "                 (26, 1, 11, 7),\n",
    "                 (11, 0, 10, 6),\n",
    "                 (11, 3, 18, 2),\n",
    "                 (18, 5, 12, 3),\n",
    "                 (12, 5, 21, 1),\n",
    "                 (22, 1, 11, 5),\n",
    "                 (11, 7, 26, 1),\n",
    "                 (9, 1, 2, 3),\n",
    "                 (9, 3, 8, 0),\n",
    "                 (9, 5, 10, 4),\n",
    "                 (13, 0, 2, 6),\n",
    "                 (8, 3, 13, 2),\n",
    "                 (10, 7, 13, 4),\n",
    "                 (7, 0, 6, 4),\n",
    "                 (1, 2, 6, 0),\n",
    "                 (10, 0, 5, 0),\n",
    "                 (10, 2, 7, 2),\n",
    "                 (14, 0, 3, 0),\n",
    "                 (14, 2, 5, 2),\n",
    "                 (14, 4, 7, 4),\n",
    "                 (20, 0, 3, 3),\n",
    "                 (20, 2, 5, 5),\n",
    "                 (20, 4, 7, 7),\n",
    "                ]\n",
    "\n",
    "def intersection_func(p1, p2, i1=None, i2=None):\n",
    "    try:\n",
    "        return p1[i1] == p2[i2]\n",
    "    except IndexError:\n",
    "        return False\n",
    "\n",
    "for place1, idx1, place2, idx2 in intersections:\n",
    "    crisscross.addConstraint(partial(intersection_func, i1=idx1, i2=idx2), (place1, place2))\n",
    "\n",
    "res = crisscross.getSolution()\n",
    "\n",
    "# print(res or \"No solution\")\n",
    "\n",
    "set(names) - set(res.values())"
   ]
  },
  {
   "cell_type": "markdown",
   "metadata": {},
   "source": [
    "#### 9. Coordinate Pairs (Erich Friedman) - 10 points\n",
    "\n",
    "> Connect pairs of points (using each point only\n",
    "once), so that the corresponding segments can\n",
    "be separated into two sets, each set containing\n",
    "segments with the same length.\n",
    "\n",
    "<img src='/files/2009_9_coordinate_pairs.png' />"
   ]
  },
  {
   "cell_type": "code",
   "execution_count": 8,
   "metadata": {
    "collapsed": false
   },
   "outputs": [
    {
     "name": "stdout",
     "output_type": "stream",
     "text": [
      "['AE', 'BI', 'CL', 'DG', 'FN', 'HK', 'JM']\n"
     ]
    }
   ],
   "source": [
    "from itertools import combinations, chain\n",
    "from math import sqrt, pow\n",
    "from collections import defaultdict\n",
    "from decimal import Decimal\n",
    "\n",
    "\n",
    "coords = {'A':(1,6), 'B':(2,6), 'C':(2,5), 'D':(5,5), 'E':(0,4), 'F':(2,4), 'G':(3,4),\n",
    "          'H':(4,4), 'I':(6,4), 'J':(5,3), 'K':(0,2), 'L':(0,1), 'M':(1,1), 'N':(4,0)}\n",
    "\n",
    "len_coords = len(coords)\n",
    "len_segment_vars = int(len(coords.keys())/2)\n",
    "\n",
    "def get_length(p1, p2):\n",
    "    return Decimal(sqrt(pow((p2[0] - p1[0]), 2) + \\\n",
    "                        pow((p2[1] - p1[1]), 2)))\n",
    "\n",
    "segments_length_map = {f'{p1}{p2}':get_length(coords[p1], coords[p2]) \\\n",
    "                       for p1, p2 in list(combinations(coords.keys(), 2))}\n",
    "\n",
    "segments_length_reverse_map = defaultdict(list)\n",
    "\n",
    "for k, v in segments_length_map.items():\n",
    "    segments_length_reverse_map[v].append(k)\n",
    "\n",
    "def get_letter_sequence(length_pair):\n",
    "    return list(chain(*map(segments_length_reverse_map.get, length_pair)))\n",
    "\n",
    "def has_all_unique_letters(segs):\n",
    "    seen = set(''.join(segs))\n",
    "    return len(seen) == len_coords\n",
    "\n",
    "for length_pair in combinations(segments_length_reverse_map.keys(), 2):\n",
    "    segs = get_letter_sequence(length_pair)\n",
    "    if has_all_unique_letters(segs):\n",
    "        for comb in combinations(segs, len_segment_vars):\n",
    "            if has_all_unique_letters(comb):\n",
    "                print(sorted(comb))\n",
    "                break\n",
    "        "
   ]
  }
 ],
 "metadata": {
  "kernelspec": {
   "display_name": "Python 3",
   "language": "python",
   "name": "python3"
  },
  "language_info": {
   "codemirror_mode": {
    "name": "ipython",
    "version": 3
   },
   "file_extension": ".py",
   "mimetype": "text/x-python",
   "name": "python",
   "nbconvert_exporter": "python",
   "pygments_lexer": "ipython3",
   "version": "3.6.3"
  }
 },
 "nbformat": 4,
 "nbformat_minor": 2
}
