{
 "cells": [
  {
   "cell_type": "markdown",
   "metadata": {},
   "source": [
    "## Solving puzzles with Python\n",
    "\n",
    "The puzzles in [this pdf](/files/uspc-09.pdf) are from US Puzzle Contest 2009. PDF password is `barMd345`."
   ]
  },
  {
   "cell_type": "code",
   "execution_count": 17,
   "metadata": {
    "collapsed": true
   },
   "outputs": [],
   "source": [
    "from itertools import product, combinations, tee, islice, repeat\n",
    "from collections import Counter\n",
    "from random import choice\n",
    "from constraint import Problem, BacktrackingSolver"
   ]
  },
  {
   "cell_type": "markdown",
   "metadata": {},
   "source": [
    "#### 1. Battleships (Moshe Rubin) - 5 points\n",
    "\n",
    "> Locate the position of the 10-ship fleet in\n",
    " the grid. The fleet is shown below: one \n",
    "4-unit battleship, two 3-unit cruisers, \n",
    "three 2-unit destroyers, and four 1-unit \n",
    "submarines. Each segment of a ship occupies a single cell. Ships are oriented \n",
    "either horizontally or vertically, \n",
    "and they do not touch each other, not even \n",
    "diagonally. The numbers on the right and bottom edges of the grid reveal the total \n",
    "number of ship segments that appear in each respective row or column. (For \n",
    "solving purposes, ignore the letters above and to the left of the grid.)\n",
    "\n",
    "> Answer: Enter the coordinates of the three missing 1-unit\n",
    " submarines (using the letters above and to the left of \n",
    "the grid). "
   ]
  },
  {
   "cell_type": "code",
   "execution_count": 3,
   "metadata": {
    "collapsed": true
   },
   "outputs": [],
   "source": [
    "# ship pseudo-graphic:\n",
    "# < - horizontal tail/head\n",
    "# > - horizontal tail/head\n",
    "# ^ - vertical tail/head\n",
    "# v - vertical tail/head\n",
    "# * - body segment\n",
    "# s - 1-unit submarine\n",
    "# w - empty cell\n",
    "# _ - unknown cell"
   ]
  },
  {
   "cell_type": "code",
   "execution_count": 2,
   "metadata": {
    "collapsed": true
   },
   "outputs": [],
   "source": [
    "fleet = ['<**>', '<*>', '<*>', '<>', '<>', '<>', 's', 's', 's', 's']\n",
    "\n",
    "grid = [['s', '_', 'w', '_', '_', '_', '_', '_', '_', '_'],\n",
    "        ['_', '_', '_', '_', '_', '_', '_', '_', '_', '_'],\n",
    "        ['_', '_', '_', '_', '_', '_', '_', '_', '_', '*'],\n",
    "        ['_', '_', '_', '_', '_', '_', '_', '_', '_', '_'],\n",
    "        ['_', '_', '_', '_', '_', '_', '_', '_', '_', '_'],\n",
    "        ['_', '_', '_', '_', '_', '_', '_', '_', '_', '_'],\n",
    "        ['_', '_', '_', '_', '_', '_', '_', '_', '_', '_'],\n",
    "        ['_', '_', '_', '_', '_', '_', '_', '_', '_', '^'],\n",
    "        ['_', '_', '_', '_', '_', '_', '_', '_', '_', '_'],\n",
    "        ['_', '_', '_', '_', '_', '_', '_', '_', '_', '_']]\n",
    "\n",
    "x_hints = [4, 0, 2, 1, 1, 2, 0, 5, 0, 5]\n",
    "y_hints = [2, 2, 1, 1, 1, 2, 2, 1, 6, 2]\n",
    "\n",
    "\n"
   ]
  },
  {
   "cell_type": "markdown",
   "metadata": {},
   "source": [
    "#### 2. Sudoku (Nikoli) – 10 points\n",
    "\n",
    "> Place the digits 1 through 9 into the empty squares (one per square) so that each digit appears exactly once in\n",
    "each of the following regions: the nine rows, the nine columns, and the nine outlined 3x3 regions.\n",
    "\n",
    "> Answer: Enter the seventh row of digits, followed by the seventh column of digits."
   ]
  },
  {
   "cell_type": "code",
   "execution_count": 38,
   "metadata": {
    "collapsed": false
   },
   "outputs": [
    {
     "name": "stdout",
     "output_type": "stream",
     "text": [
      "[3, 4, 1, 6, 2, 8, 5, 9, 7]\n",
      "[4, 7, 1, 9, 8, 2, 5, 3, 6]\n"
     ]
    }
   ],
   "source": [
    "# credit: https://simplapi.wordpress.com/2012/11/02/python-constraint-and-sudoku/\n",
    "\n",
    "from constraint import Problem, InSetConstraint, AllDifferentConstraint\n",
    "import math\n",
    " \n",
    "def solveSudoku(size = 9, originalGame = None):\n",
    "    \"\"\" Solving Sudoku of any size \"\"\"\n",
    "    sudoku = Problem()\n",
    " \n",
    "    #Defining size of row/col\n",
    "    rows = range(size)\n",
    "    cols = range(size)\n",
    " \n",
    "    #Creating board\n",
    "    board = [(row, col) for row in rows for col in cols]\n",
    "    #Defining game variable, a single range will be enough\n",
    "    sudoku.addVariables(board, range(1, size + 1))\n",
    " \n",
    "    #Row set\n",
    "    rowSet = [list(zip([el] * len(cols), cols)) for el in rows]\n",
    "    colSet = [list(zip(rows, [el] * len(rows))) for el in cols]\n",
    "  \n",
    "    #The original board is not empty, we add that constraint to the list of constraint\n",
    "    if originalGame is not None:\n",
    "        for i in range(0, size):\n",
    "            for j in range(0, size):\n",
    "                #Getting the value of the current game\n",
    "                o = originalGame[i][j]\n",
    "                #We apply constraint when the number is set only\n",
    "                if o > 0:\n",
    "                    #We get the associated tuple\n",
    "                    t = (rows[i],cols[j])\n",
    "                    #We set a basic equal constraint rule to force the system to keep that variable at that place\n",
    "                    sudoku.addConstraint(lambda var, val=o: var == val, (t,))\n",
    " \n",
    "    #The constraint are like that : and each row, and each columns, got same final compute value\n",
    " \n",
    "    for row in rowSet:\n",
    "        sudoku.addConstraint(AllDifferentConstraint(), row)\n",
    "    for col in colSet:\n",
    "        sudoku.addConstraint(AllDifferentConstraint(), col)\n",
    " \n",
    "    #Every sqrt(size) (3x3 box constraint) got same sum\n",
    "    sqSize = int(math.floor(math.sqrt(size)))\n",
    " \n",
    "    #xrange allow to define a step, here sq (wich is sq = 3 in 9x9 sudoku)\n",
    "    for i in range(0,size,sqSize):\n",
    "        for j in range(0,size,sqSize):\n",
    "            #Computing the list of tuple linked to that box\n",
    "            box = []\n",
    "            for k in range(0, sqSize):\n",
    "                for l in range(0, sqSize):\n",
    "                    #The tuple i+k, j+l is inside that box\n",
    "                    box.append( (i+k, j+l) )\n",
    "            #Compute is done, now we can add the constraint for that box\n",
    "            sudoku.addConstraint(AllDifferentConstraint(), box)\n",
    " \n",
    "    #Computing and returning final result\n",
    "    return sudoku.getSolution()\n",
    " \n",
    " \n",
    "\n",
    "rg = 9\n",
    "initValue = [[0, 1, 0, 5, 0, 0, 0, 8, 0],\n",
    "             [0, 2, 3, 4, 0, 0, 7, 0, 0],\n",
    "             [0, 0, 0, 0, 0, 6, 0, 0, 0],\n",
    "             [0, 0, 8, 1, 0, 0, 0, 0, 5],\n",
    "             [0, 7, 0, 0, 0, 0, 0, 4, 0],\n",
    "             [6, 0, 0, 0, 0, 3, 2, 0, 0],\n",
    "             [0, 0, 0, 6, 0, 0, 0, 0, 0],\n",
    "             [0, 0, 7, 0, 0, 4, 3, 2, 0],\n",
    "             [0, 8, 0, 0, 0, 5, 0, 1, 0]]\n",
    "\n",
    "res = solveSudoku(rg, initValue)\n",
    "if res is not None:\n",
    "#     for i in range(0, rg):\n",
    "#         for j in range(0, rg):\n",
    "#             print(res[i, j], end='')\n",
    "#         print()\n",
    "#     print()\n",
    "    \n",
    "    print([res[6, i] for i in range(rg)])\n",
    "    print([res[i, 6] for i in range(rg)])\n",
    "else:\n",
    "    print(\"No result to show\")"
   ]
  },
  {
   "cell_type": "markdown",
   "metadata": {},
   "source": [
    "#### 3. Missing Operation KenKen® (Nextoy LLC) – 10 points\n",
    "\n",
    "> Standard KenKen rules apply, but with the\n",
    "operations missing.\n",
    "Fill each square with a digit between 1 and 6,\n",
    "not repeating a digit in any row or column. Each\n",
    "outlined region (cage) includes a target number,\n",
    "which is the result of some one arithmetic\n",
    "operation applied to all the digits inside the\n",
    "cage.\n",
    "Cages with one square have no operation: the\n",
    "missing digit is the same as the target.\n",
    "Subtraction and division only appear in cages\n",
    "with two squares, and the digits may appear in\n",
    "any order. For cages with more that two\n",
    "squares, the digits are added or multiplied\n",
    "individually."
   ]
  },
  {
   "cell_type": "code",
   "execution_count": 39,
   "metadata": {
    "collapsed": false
   },
   "outputs": [
    {
     "name": "stdout",
     "output_type": "stream",
     "text": [
      "[3, 1, 2, 4, 6, 5]\n",
      "[3, 1, 4, 5, 6, 2]\n"
     ]
    }
   ],
   "source": [
    "from constraint import Problem, AllDifferentConstraint\n",
    "from functools import partial, reduce\n",
    "from operator import mul\n",
    "\n",
    "size = 6\n",
    "\n",
    "kenken = Problem()\n",
    "\n",
    "#Defining size of row/col\n",
    "rows = range(size)\n",
    "cols = range(size)\n",
    "\n",
    "#Creating board\n",
    "board = [(row, col) for row in rows for col in cols]\n",
    "#Defining game variable, a single range will be enough\n",
    "kenken.addVariables(board, range(1, size + 1))\n",
    "\n",
    "#Row set\n",
    "rowSet = [list(zip([el] * len(cols), cols)) for el in rows]\n",
    "colSet = [list(zip(rows, [el] * len(rows))) for el in cols]\n",
    "\n",
    "for row in rowSet:\n",
    "    kenken.addConstraint(AllDifferentConstraint(), row)\n",
    "for col in colSet:\n",
    "    kenken.addConstraint(AllDifferentConstraint(), col)\n",
    "\n",
    "regions = [  (4,  [(0, 0), (0, 1)]),\n",
    "             (40, [(0, 2), (0, 3), (1, 3)]),\n",
    "             (3,  [(0, 4), (0, 5)]),\n",
    "             (12, [(1, 0), (1, 1), (1, 2)]),\n",
    "             (3,  [(1, 4), (1, 5), (2, 5)]),\n",
    "             (15, [(2, 0), (3, 0), (3, 1)]),\n",
    "             (2,  [(2, 1)]),\n",
    "             (3,  [(2, 2), (3, 2)]),\n",
    "             (10, [(2, 3), (2, 4)]),\n",
    "             (21, [(3, 3), (3, 4), (3, 5), (4, 4), (4, 5)]),\n",
    "             (6,  [(4, 0), (4, 1), (4, 2)]),\n",
    "             (20, [(4, 3), (5, 3), (5, 2)]),\n",
    "             (2,  [(5, 0), (5, 1)]),\n",
    "             (2,  [(5, 4), (5, 5)])]\n",
    "    \n",
    "\n",
    "def func(*cells, value=None):\n",
    "    if len(cells) == 1:\n",
    "        return cells[0] == value\n",
    "    elif len(cells) == 2:\n",
    "        return any([sum(cells) == value,\n",
    "                    cells[0] - cells[1] == value,\n",
    "                    cells[1] - cells[0] == value,\n",
    "                    mul(*cells) == value,\n",
    "                    cells[0] / cells[1] == value,\n",
    "                    cells[1] / cells[0] == value])\n",
    "    else:\n",
    "        return any([sum(cells) == value,\n",
    "                    reduce(mul, cells) == value])\n",
    "\n",
    "for val, region in regions:\n",
    "    kenken.addConstraint(partial(func, value=val), region)\n",
    "    \n",
    "\n",
    "res = kenken.getSolution()\n",
    "if res is not None:\n",
    "#     for i in range(0, size):\n",
    "#         for j in range(0, size):\n",
    "#             print(res[i, j], end='')\n",
    "#         print()\n",
    "#     print()\n",
    "    print([res[4, i] for i in range(size)])\n",
    "    print([res[i, 4] for i in range(size)])\n",
    "else:\n",
    "    print(\"No solution\")"
   ]
  },
  {
   "cell_type": "markdown",
   "metadata": {},
   "source": [
    "#### 4. Sum Thing (Ed Pegg Jr.) - 10 points\n",
    "\n",
    "> Place each of the digits 0 through 9 into the empty circles (one per circle) so that the sum of the digits along each\n",
    "line is equal to 13."
   ]
  },
  {
   "cell_type": "code",
   "execution_count": 47,
   "metadata": {
    "collapsed": false
   },
   "outputs": [
    {
     "name": "stdout",
     "output_type": "stream",
     "text": [
      "0, 6, 5, 2, 8, 4, 1, 7, 9, 3\n"
     ]
    }
   ],
   "source": [
    "from constraint import Problem, AllDifferentConstraint, ExactSumConstraint\n",
    "from functools import partial, reduce\n",
    "from operator import mul\n",
    "\n",
    "size = 10\n",
    "line_sum = 13\n",
    "board = range(size)\n",
    "lines = [[0, 1, 7], [0, 5, 8], [0, 2, 4], [1, 2, 3], [1, 5, 9],\n",
    "         [2, 6, 7], [3, 5, 7], [3, 4, 9], [4, 5, 6], [6, 8, 9]]\n",
    "\n",
    "thing = Problem()\n",
    "thing.addVariables(board, range(size))\n",
    "thing.addConstraint(AllDifferentConstraint(), board)\n",
    "for line in lines:\n",
    "    thing.addConstraint(ExactSumConstraint(line_sum), line)\n",
    "\n",
    "res = thing.getSolution()\n",
    "if res is not None:\n",
    "    print(', '.join([str(res[i]) for i in board]))\n",
    "else:\n",
    "    print(\"No solution\")"
   ]
  }
 ],
 "metadata": {
  "kernelspec": {
   "display_name": "Python 3",
   "language": "python",
   "name": "python3"
  },
  "language_info": {
   "codemirror_mode": {
    "name": "ipython",
    "version": 3
   },
   "file_extension": ".py",
   "mimetype": "text/x-python",
   "name": "python",
   "nbconvert_exporter": "python",
   "pygments_lexer": "ipython3",
   "version": "3.6.3"
  }
 },
 "nbformat": 4,
 "nbformat_minor": 2
}
